{
 "cells": [
  {
   "cell_type": "code",
   "execution_count": 6,
   "metadata": {},
   "outputs": [],
   "source": [
    "from numpy.random import randn\n",
    "\n",
    "class PosSensor1(object):\n",
    "    def __init__(self, pos=(0, 0), vel=(0, 0), noise_std=1.):\n",
    "        self.vel = vel\n",
    "        self.noise_std = noise_std\n",
    "        self.pos = [pos[0], pos[1]]\n",
    "        \n",
    "    def read(self):\n",
    "        self.pos[0] += self.vel[0]\n",
    "        self.pos[1] += self.vel[1]\n",
    "        \n",
    "        return [self.pos[0] + randn() * self.noise_std,\n",
    "                self.pos[1] + randn() * self.noise_std]\n"
   ]
  },
  {
   "cell_type": "code",
   "execution_count": 16,
   "metadata": {},
   "outputs": [
    {
     "data": {
      "image/png": "[encoded data removed]",
      "text/plain": [
       "<matplotlib.figure.Figure at 0x7f29fb364ef0>"
      ]
     },
     "metadata": {},
     "output_type": "display_data"
    }
   ],
   "source": [
    "import matplotlib.pyplot as plt\n",
    "import numpy as np\n",
    "\n",
    "pos, vel = (4, 3), (2, 1)\n",
    "sensor = PosSensor1(pos, vel, noise_std=1)\n",
    "ps = np.array([sensor.read() for _ in range(50)])\n",
    "plt.plot(ps[:,0],ps[:,1])\n",
    "plt.show()"
   ]
  },
  {
   "cell_type": "code",
   "execution_count": 19,
   "metadata": {},
   "outputs": [],
   "source": [
    "from filterpy.kalman import KalmanFilter\n",
    "tracker = KalmanFilter(dim_x=4, dim_z=2)\n",
    "dt = 1.   # time step 1 second\n",
    "\n",
    "tracker.F = np.array([[1, dt, 0,  0],\n",
    "                      [0,  1, 0,  0],\n",
    "                      [0,  0, 1, dt],\n",
    "                      [0,  0, 0,  1]])"
   ]
  },
  {
   "cell_type": "code",
   "execution_count": 20,
   "metadata": {},
   "outputs": [
    {
     "name": "stdout",
     "output_type": "stream",
     "text": [
      "[[ 0.00025  0.0005   0.       0.     ]\n",
      " [ 0.0005   0.001    0.       0.     ]\n",
      " [ 0.       0.       0.00025  0.0005 ]\n",
      " [ 0.       0.       0.0005   0.001  ]]\n"
     ]
    }
   ],
   "source": [
    "from scipy.linalg import block_diag\n",
    "from filterpy.common import Q_discrete_white_noise\n",
    "\n",
    "q = Q_discrete_white_noise(dim=2, dt=dt, var=0.001)\n",
    "tracker.Q = block_diag(q, q)\n",
    "print(tracker.Q)"
   ]
  },
  {
   "cell_type": "code",
   "execution_count": 21,
   "metadata": {
    "collapsed": true
   },
   "outputs": [],
   "source": [
    "tracker.H = np.array([[1, 0, 0,        0],\n",
    "                      [0,        0, 1, 0]])"
   ]
  },
  {
   "cell_type": "code",
   "execution_count": 22,
   "metadata": {},
   "outputs": [
    {
     "data": {
      "text/plain": [
       "array([[ 5.,  0.],\n",
       "       [ 0.,  5.]])"
      ]
     },
     "execution_count": 22,
     "metadata": {},
     "output_type": "execute_result"
    }
   ],
   "source": [
    "\n",
    "\n",
    "tracker.R = np.array([[5., 0],\n",
    "                      [0, 5]])\n",
    "tracker.R\n",
    "\n"
   ]
  },
  {
   "cell_type": "code",
   "execution_count": 23,
   "metadata": {
    "collapsed": true
   },
   "outputs": [],
   "source": [
    "tracker.x = np.array([[0, 0, 0, 0]]).T\n",
    "tracker.P = np.eye(4) * 500."
   ]
  },
  {
   "cell_type": "code",
   "execution_count": 33,
   "metadata": {},
   "outputs": [
    {
     "data": {
      "image/png": "[encoded data removed]",
      "text/plain": [
       "<matplotlib.figure.Figure at 0x7f29f30366d8>"
      ]
     },
     "metadata": {},
     "output_type": "display_data"
    }
   ],
   "source": [
    "from filterpy.stats import plot_covariance_ellipse\n",
    "\n",
    "\n",
    "R_std = 0.35\n",
    "Q_std = 0.04\n",
    "\n",
    "def tracker1():\n",
    "    tracker = KalmanFilter(dim_x=4, dim_z=2)\n",
    "    dt = 1.0   # time step\n",
    "\n",
    "    tracker.F = np.array([[1, dt, 0,  0],\n",
    "                          [0,  1, 0,  0],\n",
    "                          [0,  0, 1, dt],\n",
    "                          [0,  0, 0,  1]])\n",
    "    tracker.u = 0.\n",
    "    tracker.H = np.array([[1, 0, 0, 0],\n",
    "                          [0, 0, 1, 0]])\n",
    "\n",
    "    tracker.R = np.eye(2) * R_std**2\n",
    "    q = Q_discrete_white_noise(dim=2, dt=dt, var=Q_std**2)\n",
    "    tracker.Q = block_diag(q, q)\n",
    "    tracker.x = np.array([[0, 0, 0, 0]]).T\n",
    "    tracker.P = np.eye(4) * 500.\n",
    "    return tracker\n",
    "\n",
    "# simulate robot movement\n",
    "N = 30\n",
    "sensor = PosSensor1((0, 0), (2, .2), noise_std=R_std)\n",
    "\n",
    "zs = np.array([np.array([sensor.read()]).T for _ in range(N)])\n",
    "\n",
    "# run filter\n",
    "robot_tracker = tracker1()\n",
    "mu, cov, _, _ = robot_tracker.batch_filter(zs)\n",
    "\n",
    "for x, P in zip(mu, cov):\n",
    "    # covariance of x and y\n",
    "    cov = np.array([[P[0, 0], P[2, 0]], \n",
    "                    [P[0, 2], P[2, 2]]])\n",
    "    mean = (x[0, 0], x[2, 0])\n",
    "    #plot_covariance_ellipse(mean, cov=cov, fc='g', std=3, alpha=0.5)\n",
    "    \n",
    "plt.plot(mu[:,0],mu[:,2])\n",
    "plt.plot(zs[:,0],zs[:,1])\n",
    "plt.show()"
   ]
  },
  {
   "cell_type": "code",
   "execution_count": null,
   "metadata": {
    "collapsed": true
   },
   "outputs": [],
   "source": []
  }
 ],
 "metadata": {
  "kernelspec": {
   "display_name": "Python 3",
   "language": "python",
   "name": "python3"
  },
  "language_info": {
   "codemirror_mode": {
    "name": "ipython",
    "version": 3
   },
   "file_extension": ".py",
   "mimetype": "text/x-python",
   "name": "python",
   "nbconvert_exporter": "python",
   "pygments_lexer": "ipython3",
   "version": "3.5.3"
  }
 },
 "nbformat": 4,
 "nbformat_minor": 2
}
